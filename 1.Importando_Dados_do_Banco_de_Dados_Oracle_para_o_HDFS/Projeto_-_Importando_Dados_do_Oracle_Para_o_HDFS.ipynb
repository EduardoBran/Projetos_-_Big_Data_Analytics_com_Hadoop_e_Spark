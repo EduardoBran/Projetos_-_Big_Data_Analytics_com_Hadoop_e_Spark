{
 "cells": [
  {
   "cell_type": "markdown",
   "id": "72ccc779",
   "metadata": {},
   "source": [
    "# <center><span style=\"font-size: 42px;color: darkgreen;\">Projeto - Importando Dados do Banco de Dados Oracle Para o HDFS</center></span>\n",
    "\n",
    "<br>\n",
    "\n",
    "---\n",
    "\n",
    "<br>\n",
    "\n",
    "## Contexto\n",
    "\n",
    "\n",
    "Projeto - Importando Dados do Banco de Dados Oracle Para o HDFS\n",
    "\n"
   ]
  }
 ],
 "metadata": {
  "kernelspec": {
   "display_name": "Python 3 (ipykernel)",
   "language": "python",
   "name": "python3"
  },
  "language_info": {
   "codemirror_mode": {
    "name": "ipython",
    "version": 3
   },
   "file_extension": ".py",
   "mimetype": "text/x-python",
   "name": "python",
   "nbconvert_exporter": "python",
   "pygments_lexer": "ipython3",
   "version": "3.9.7"
  }
 },
 "nbformat": 4,
 "nbformat_minor": 5
}
