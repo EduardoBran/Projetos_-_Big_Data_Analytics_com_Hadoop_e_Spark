{
 "cells": [
  {
   "cell_type": "code",
   "execution_count": null,
   "id": "a643c5c1-c4db-4b54-80a4-d12e84a33b90",
   "metadata": {},
   "outputs": [],
   "source": []
  }
 ],
 "metadata": {
  "kernelspec": {
   "display_name": "",
   "name": ""
  },
  "language_info": {
   "name": ""
  }
 },
 "nbformat": 4,
 "nbformat_minor": 5
}
